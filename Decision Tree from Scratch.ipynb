{
 "cells": [
  {
   "cell_type": "code",
   "execution_count": 1,
   "metadata": {},
   "outputs": [],
   "source": [
    "# Create an training dataset of an Fruit basket example\n",
    "training_data = [[\"Green\",3,\"Apple\"],\n",
    "                [\"Red\",3,\"Apple\"],\n",
    "                [\"Red\",1,\"Grape\"],\n",
    "                [\"Blue\",1,\"Grape\"],\n",
    "                [\"Yellow\",3,\"Lemon\"],\n",
    "                [\"Green\",3,\"Lemon\"]]"
   ]
  },
  {
   "cell_type": "code",
   "execution_count": 2,
   "metadata": {},
   "outputs": [],
   "source": [
    "header  = [\"Color\",\"Size\",\"Label\"]"
   ]
  },
  {
   "cell_type": "code",
   "execution_count": 3,
   "metadata": {},
   "outputs": [],
   "source": [
    "# Create a counting class that return counting different type of class / label / Output and thierr occurence\n",
    "def class_count(data):\n",
    "    \"\"\" Return the different type of class and thier occurence \n",
    "            In Dictionary form\"\"\"\n",
    "    dic = {}\n",
    "    for row in data:\n",
    "        i = row[-1]\n",
    "        if i in dic:\n",
    "            dic[i] = dic[i] + 1\n",
    "        else:\n",
    "            dic[i] = 1\n",
    "    return dic"
   ]
  },
  {
   "cell_type": "code",
   "execution_count": 4,
   "metadata": {},
   "outputs": [
    {
     "data": {
      "text/plain": [
       "{'Apple': 2, 'Grape': 2, 'Lemon': 2}"
      ]
     },
     "execution_count": 4,
     "metadata": {},
     "output_type": "execute_result"
    }
   ],
   "source": [
    "class_count(training_data)"
   ]
  },
  {
   "cell_type": "code",
   "execution_count": 5,
   "metadata": {},
   "outputs": [],
   "source": [
    "# This function return the boolean value of that the value is integer or float or not\n",
    "def isnumeric(i):\n",
    "    return isinstance(i,int) or isinstance(i,float)"
   ]
  },
  {
   "cell_type": "code",
   "execution_count": 6,
   "metadata": {},
   "outputs": [
    {
     "data": {
      "text/plain": [
       "True"
      ]
     },
     "execution_count": 6,
     "metadata": {},
     "output_type": "execute_result"
    }
   ],
   "source": [
    "isnumeric(3007)"
   ]
  },
  {
   "cell_type": "code",
   "execution_count": 7,
   "metadata": {},
   "outputs": [],
   "source": [
    "# Create a question on the basis of dividing the data to create a tree\n",
    "\n",
    "class Question:\n",
    "    \"\"\" \n",
    "    Question is used to partioning the dataset\n",
    "        \n",
    "        This class just record a column number (e.g. 0 for color) and\n",
    "        a column value (e.g. Green) , The 'Match' method is used to compare \n",
    "        the feature value in an example to the feature value stored int the\n",
    "        Question.\n",
    "    \n",
    "    \"\"\"\n",
    "    \n",
    "    def __init__ (self,col,val):\n",
    "        self.col = col\n",
    "        self.val = val\n",
    "        \n",
    "        \n",
    "    def match (self,example):\n",
    "        \"\"\"Matching the question with an example data\"\"\"\n",
    "        val = example[self.col]\n",
    "        if isnumeric(val):\n",
    "            return (val >= self.val)\n",
    "        else:\n",
    "            return (val == self.val)\n",
    "        \n",
    "    # __repr__ method only for create to represent of question\n",
    "    def __repr__ (self):\n",
    "        condition = \"==\"\n",
    "        if isnumeric(self.val):\n",
    "            condition = \">=\"\n",
    "        return f\"Is {header[self.col]} {condition} {str(self.val)} ?\""
   ]
  },
  {
   "cell_type": "markdown",
   "metadata": {},
   "source": [
    "Demo to check above code"
   ]
  },
  {
   "cell_type": "code",
   "execution_count": 8,
   "metadata": {},
   "outputs": [
    {
     "data": {
      "text/plain": [
       "Is Size >= 3 ?"
      ]
     },
     "execution_count": 8,
     "metadata": {},
     "output_type": "execute_result"
    }
   ],
   "source": [
    "Question(1,3)"
   ]
  },
  {
   "cell_type": "code",
   "execution_count": 9,
   "metadata": {},
   "outputs": [
    {
     "data": {
      "text/plain": [
       "Is Color == Red ?"
      ]
     },
     "execution_count": 9,
     "metadata": {},
     "output_type": "execute_result"
    }
   ],
   "source": [
    "Question (0,\"Red\")"
   ]
  },
  {
   "cell_type": "code",
   "execution_count": 10,
   "metadata": {},
   "outputs": [
    {
     "data": {
      "text/plain": [
       "Is Color == Green ?"
      ]
     },
     "execution_count": 10,
     "metadata": {},
     "output_type": "execute_result"
    }
   ],
   "source": [
    "q = Question(0,\"Green\")\n",
    "q"
   ]
  },
  {
   "cell_type": "code",
   "execution_count": 11,
   "metadata": {},
   "outputs": [
    {
     "data": {
      "text/plain": [
       "False"
      ]
     },
     "execution_count": 11,
     "metadata": {},
     "output_type": "execute_result"
    }
   ],
   "source": [
    "q.match(training_data[1])"
   ]
  },
  {
   "cell_type": "code",
   "execution_count": 12,
   "metadata": {},
   "outputs": [
    {
     "data": {
      "text/plain": [
       "True"
      ]
     },
     "execution_count": 12,
     "metadata": {},
     "output_type": "execute_result"
    }
   ],
   "source": [
    "q.match(training_data[0])"
   ]
  },
  {
   "cell_type": "raw",
   "metadata": {},
   "source": [
    "Partition function is used to partition the data into two form if it is true or it is false on the basis of question and their matching function.\n",
    "\n",
    "These will return an two list first list contain rows that answer is true and second list contain that rows that answer is false.\n",
    "\n",
    "These list makes an two branch of an decision tree left side branch contain true rows and right side branch contain false rows"
   ]
  },
  {
   "cell_type": "code",
   "execution_count": 13,
   "metadata": {},
   "outputs": [],
   "source": [
    "def partition(dataset,question):\n",
    "    \n",
    "    \"\"\"These method help to partioning the dataset on the basis of question\"\"\"\n",
    "    \n",
    "    true_row,false_row = [],[]\n",
    "    for row in dataset:\n",
    "        if question.match(row) :\n",
    "            true_row.append(row)\n",
    "        else:\n",
    "            false_row.append(row)\n",
    "    return true_row,false_row"
   ]
  },
  {
   "cell_type": "markdown",
   "metadata": {},
   "source": [
    "Checking the partition is working on the basis of question"
   ]
  },
  {
   "cell_type": "code",
   "execution_count": 14,
   "metadata": {},
   "outputs": [
    {
     "name": "stdout",
     "output_type": "stream",
     "text": [
      "[['Red', 3, 'Apple'], ['Red', 1, 'Grape']]\n",
      "[['Green', 3, 'Apple'], ['Blue', 1, 'Grape'], ['Yellow', 3, 'Lemon'], ['Green', 3, 'Lemon']]\n"
     ]
    }
   ],
   "source": [
    "q1 = Question(0,\"Red\")\n",
    "true_row,false_row = partition(training_data,q1)\n",
    "print (true_row,false_row,sep = \"\\n\")"
   ]
  },
  {
   "cell_type": "code",
   "execution_count": 15,
   "metadata": {},
   "outputs": [
    {
     "name": "stdout",
     "output_type": "stream",
     "text": [
      "[['Green', 3, 'Apple'], ['Red', 3, 'Apple'], ['Yellow', 3, 'Lemon'], ['Green', 3, 'Lemon']]\n",
      "[['Red', 1, 'Grape'], ['Blue', 1, 'Grape']]\n"
     ]
    }
   ],
   "source": [
    "q2 = Question(1,3)\n",
    "true_row,false_row = partition(training_data,q2)\n",
    "print (true_row,false_row, sep = \"\\n\")"
   ]
  },
  {
   "cell_type": "markdown",
   "metadata": {},
   "source": [
    "Gini is makes an big role to partiton the ddataset on the basis of gini value.\n",
    "\n",
    "These Gini value shows how much impurity of that dataset and calculate the information gain.\n",
    "\n",
    "Gini Index, also known as Gini impurity, calculates the amount of probability of a specific feature that is classified incorrectly when selected randomly. If all the elements are linked with a single class then it can be called pure.\n",
    "\n",
    "Formula :\n",
    "\n",
    "gini = 1 - (summation  i=1 --> n) (Pi**2) \n",
    "\n",
    "Where Pi denotes the probability of an element being classified for a distinct class."
   ]
  },
  {
   "cell_type": "code",
   "execution_count": 16,
   "metadata": {},
   "outputs": [],
   "source": [
    "def gini(data):\n",
    "    \"\"\"Calculate the Gini impurity for list of rows\n",
    "            \n",
    "            ref = 'https://en.wikipedia.org/wiki/Decision_tree_learning#Gini_impurity'\"\"\"\n",
    "    count = class_count(data)\n",
    "    impurity = 1\n",
    "    for row in count:\n",
    "        prob_of_lbl = count[row]/float(len(data))\n",
    "        impurity -= prob_of_lbl**2\n",
    "    return impurity"
   ]
  },
  {
   "cell_type": "markdown",
   "metadata": {},
   "source": [
    "Tesing the gini impurity of different type of mixing"
   ]
  },
  {
   "cell_type": "code",
   "execution_count": 17,
   "metadata": {},
   "outputs": [
    {
     "data": {
      "text/plain": [
       "0.0"
      ]
     },
     "execution_count": 17,
     "metadata": {},
     "output_type": "execute_result"
    }
   ],
   "source": [
    "no_mix = [[\"Apple\"],[\"Apple\"]]\n",
    "# It gives value O because dataset with no mixing\n",
    "gini(no_mix)"
   ]
  },
  {
   "cell_type": "code",
   "execution_count": 18,
   "metadata": {},
   "outputs": [
    {
     "data": {
      "text/plain": [
       "0.5"
      ]
     },
     "execution_count": 18,
     "metadata": {},
     "output_type": "execute_result"
    }
   ],
   "source": [
    "some_mixing = [[\"Orange\"],[\"Apple\"]]\n",
    "# This will return 0.5 that means it has 50 % chances of miclassifynig \n",
    "gini(some_mixing)"
   ]
  },
  {
   "cell_type": "code",
   "execution_count": 42,
   "metadata": {},
   "outputs": [
    {
     "data": {
      "text/plain": [
       "0.7999999999999998"
      ]
     },
     "execution_count": 42,
     "metadata": {},
     "output_type": "execute_result"
    }
   ],
   "source": [
    "lots_of_mixing = [[\"Apple\"],[\"Orange\"],[\"Grapes\"],[\"Grapefruit\"],[\"Berry\"]]\n",
    "# it gives 0.8 becuase in this dataset there are lots of mixing\n",
    "gini(lots_of_mixing)"
   ]
  },
  {
   "cell_type": "markdown",
   "metadata": {},
   "source": [
    "Information Gain is applied to quantify which feature provides maximal information about the classification based on the notion of entropy, i.e. by quantifying the size of uncertainty, disorder or impurity, in general, with the intention of decreasing the amount of entropy initiating from the top (root node) to bottom(leaves nodes)."
   ]
  },
  {
   "cell_type": "code",
   "execution_count": 43,
   "metadata": {},
   "outputs": [],
   "source": [
    "def info_gain(left,right,current_uncertainity):\n",
    "    \"\"\"Informatin Gain\n",
    "            The uncertainity of the starting node , minus the weight impurity of\n",
    "            two child\n",
    "    \"\"\"\n",
    "    prob = float(len(left))/(len(left) + len(right))\n",
    "    return current_uncertainity - prob*gini(left) - (1-prob)*gini(right)"
   ]
  },
  {
   "cell_type": "markdown",
   "metadata": {},
   "source": [
    "Demo of what information gain after partitioning the dataset"
   ]
  },
  {
   "cell_type": "code",
   "execution_count": 21,
   "metadata": {},
   "outputs": [
    {
     "data": {
      "text/plain": [
       "0.6666666666666665"
      ]
     },
     "execution_count": 21,
     "metadata": {},
     "output_type": "execute_result"
    }
   ],
   "source": [
    "# Calculate the uncertainity of current data\n",
    "current_uncertainity = gini (training_data)\n",
    "current_uncertainity"
   ]
  },
  {
   "cell_type": "code",
   "execution_count": 22,
   "metadata": {},
   "outputs": [
    {
     "data": {
      "text/plain": [
       "0.08333333333333315"
      ]
     },
     "execution_count": 22,
     "metadata": {},
     "output_type": "execute_result"
    }
   ],
   "source": [
    "# How much information do we gain by partioning by \"Green\"\n",
    "true_row,false_row = partition(training_data,Question(0,\"Green\"))\n",
    "info_gain(true_row,false_row,current_uncertainity)"
   ]
  },
  {
   "cell_type": "code",
   "execution_count": 44,
   "metadata": {},
   "outputs": [
    {
     "data": {
      "text/plain": [
       "0.08333333333333315"
      ]
     },
     "execution_count": 44,
     "metadata": {},
     "output_type": "execute_result"
    }
   ],
   "source": [
    "# How much information do we gain by partioning by \"Red\"\n",
    "true_row,false_row = partition(training_data,Question(0,\"Red\"))\n",
    "info_gain(true_row,false_row,current_uncertainity)"
   ]
  },
  {
   "cell_type": "markdown",
   "metadata": {},
   "source": [
    "Below function is used to finding best question  to partition the dataset on the basis of best information gain"
   ]
  },
  {
   "cell_type": "code",
   "execution_count": 24,
   "metadata": {},
   "outputs": [],
   "source": [
    "def find_best_split(data):\n",
    "    \n",
    "    \"\"\"find the best question to ask by iterating over every feature / value\n",
    "    and calculating information gain\"\"\"\n",
    "    best_gain = 0 # keep track of best information gain\n",
    "    best_question = None # keep track of feature / value produced it\n",
    "    feature = len(data[0]) - 1 # number of columns\n",
    "    current_uncertainity = gini(data)\n",
    "    for col in range(feature): # for each feature\n",
    "        value = set([row[col] for row in data]) # unique value of columns\n",
    "        for val in value: # for each value\n",
    "            question = Question(col,val) # Evaluate question on the basis of column and value\n",
    "            true_row,false_row = partition(data,question) # partitioning the data on the basis of question\n",
    "            if (len(true_row) == 0) or (len(false_row) == 0): # skip the result if doesn't divide the dataset\n",
    "                continue\n",
    "            gain = info_gain(true_row,false_row,current_uncertainity) # Evaluating the information gain\n",
    "            if (gain > best_gain): # Updating the information gain and question\n",
    "                best_gain = gain\n",
    "                best_question = question\n",
    "    return best_gain, best_question"
   ]
  },
  {
   "cell_type": "code",
   "execution_count": 25,
   "metadata": {},
   "outputs": [
    {
     "data": {
      "text/plain": [
       "(0.3333333333333332, Is Size >= 3 ?)"
      ]
     },
     "execution_count": 25,
     "metadata": {},
     "output_type": "execute_result"
    }
   ],
   "source": [
    "find_best_split(training_data)"
   ]
  },
  {
   "cell_type": "code",
   "execution_count": 26,
   "metadata": {},
   "outputs": [],
   "source": [
    "class Leaf:\n",
    "    \"\"\"A leaf node classifie data\n",
    "    This hold a dictionary of class (e.g. Apple) number of times\n",
    "    it appears in the row from the training data that reach this leaf\"\"\"\n",
    "    def __init__(self,rows):\n",
    "        self.prediction = class_count(rows)"
   ]
  },
  {
   "cell_type": "code",
   "execution_count": 27,
   "metadata": {},
   "outputs": [],
   "source": [
    "class Decision_Node:\n",
    "    \"\"\"A decision Node asks a question\n",
    "    \n",
    "    This hold a reference to the question and to the child nodes\"\"\"\n",
    "    \n",
    "    def __init__(self,question,true_branch,false_branch):\n",
    "        self.question = question\n",
    "        self.true_branch = true_branch\n",
    "        self.false_branch = false_branch"
   ]
  },
  {
   "cell_type": "code",
   "execution_count": 28,
   "metadata": {},
   "outputs": [],
   "source": [
    "def build_tree(rows):\n",
    "    \"\"\"Builds the tree.\n",
    "    \n",
    "    Rules of recursion : 1) Believe that it works, 2) Start by checking \n",
    "    for the base case (no further information gain), 3) Prepare for \n",
    "    giant stack traces\"\"\"\n",
    "    \n",
    "    # try partitioning the dataset on each of the unique attributr\n",
    "    # Calculate the information gain\n",
    "    # and return the question that produce the highest gain\n",
    "    gain,question = find_best_split(rows)\n",
    "    \n",
    "    # base case : no further inforamation gain\n",
    "    # Since we can ask no further question\n",
    "    # we'll return a leaf\n",
    "    if (gain == 0):\n",
    "        return Leaf(rows)\n",
    "    \n",
    "    # if we reach here we found a useful feature / value\n",
    "    # to partion on\n",
    "    true_row,false_row = partition(rows,question)\n",
    "    \n",
    "    # recursively build the true branch\n",
    "    true_branch = build_tree(true_row)\n",
    "    \n",
    "    # recursively build the false branch\n",
    "    false_branch = build_tree(false_row)\n",
    "    \n",
    "    # return a question\n",
    "    # This records the best feature / value to ask at this point\n",
    "    # as well as the branches to follow\n",
    "    # depending on the answer\n",
    "    return Decision_Node(question, true_branch, false_branch)"
   ]
  },
  {
   "cell_type": "code",
   "execution_count": 29,
   "metadata": {},
   "outputs": [],
   "source": [
    "def print_tree(node , spacing = \"  \"):\n",
    "    \n",
    "    # base case we've reached a leaf\n",
    "    if isinstance(node,Leaf):\n",
    "        print (spacing+ \"Predict\", node.prediction)\n",
    "        return\n",
    "    \n",
    "    # print the question at this node\n",
    "    print (spacing + str(node.question))\n",
    "    \n",
    "    # call this function recursively on the true branch\n",
    "    print (spacing + \"--> True : \")\n",
    "    print_tree(node.true_branch, spacing + \" \")\n",
    "    \n",
    "    # call this function recursively on the false branch\n",
    "    print (spacing+\"--> False : \")\n",
    "    print_tree (node.false_branch, spacing + \"  \")"
   ]
  },
  {
   "cell_type": "code",
   "execution_count": 30,
   "metadata": {},
   "outputs": [],
   "source": [
    "my_tree = build_tree(training_data)"
   ]
  },
  {
   "cell_type": "code",
   "execution_count": 31,
   "metadata": {},
   "outputs": [
    {
     "name": "stdout",
     "output_type": "stream",
     "text": [
      "  Is Size >= 3 ?\n",
      "  --> True : \n",
      "   Is Color == Red ?\n",
      "   --> True : \n",
      "    Predict {'Apple': 1}\n",
      "   --> False : \n",
      "     Is Color == Green ?\n",
      "     --> True : \n",
      "      Predict {'Apple': 1, 'Lemon': 1}\n",
      "     --> False : \n",
      "       Predict {'Lemon': 1}\n",
      "  --> False : \n",
      "    Predict {'Grape': 2}\n"
     ]
    }
   ],
   "source": [
    "print_tree(my_tree)"
   ]
  },
  {
   "cell_type": "code",
   "execution_count": 32,
   "metadata": {},
   "outputs": [],
   "source": [
    "def classify(row, node):\n",
    "    # Base cases we've reached at leaf\n",
    "    if (isinstance(node,Leaf)):\n",
    "        return node.prediction\n",
    "    \n",
    "    # Decide whether to follow the true branch or the false branch\n",
    "    # Compare the feature / value stored in the node\n",
    "    # to the example we'er consider\n",
    "    if node.question.match(row):\n",
    "        return classify(row,node.true_branch)\n",
    "    else:\n",
    "        return classify(row,node.false_branch)"
   ]
  },
  {
   "cell_type": "code",
   "execution_count": 33,
   "metadata": {},
   "outputs": [
    {
     "data": {
      "text/plain": [
       "{'Apple': 1, 'Lemon': 1}"
      ]
     },
     "execution_count": 33,
     "metadata": {},
     "output_type": "execute_result"
    }
   ],
   "source": [
    "# Tree predict the first row of our \n",
    "# training data is an apple with confidence 1\n",
    "classify(training_data[0],my_tree)"
   ]
  },
  {
   "cell_type": "code",
   "execution_count": 34,
   "metadata": {},
   "outputs": [],
   "source": [
    "def print_leaf(counts):\n",
    "    \"\"\"A nicer way to print the prediction at a leaf\"\"\"\n",
    "    total = sum(counts.values())*1.0\n",
    "    prob = {}\n",
    "    for x in counts.keys():\n",
    "        prob[x] = str(int(counts[x]/total*100)) + '%'\n",
    "    return prob"
   ]
  },
  {
   "cell_type": "code",
   "execution_count": 35,
   "metadata": {},
   "outputs": [
    {
     "data": {
      "text/plain": [
       "{'Apple': '50%', 'Lemon': '50%'}"
      ]
     },
     "execution_count": 35,
     "metadata": {},
     "output_type": "execute_result"
    }
   ],
   "source": [
    "print_leaf(classify(training_data[0],my_tree))"
   ]
  },
  {
   "cell_type": "code",
   "execution_count": 36,
   "metadata": {},
   "outputs": [
    {
     "data": {
      "text/plain": [
       "{'Apple': '50%', 'Lemon': '50%'}"
      ]
     },
     "execution_count": 36,
     "metadata": {},
     "output_type": "execute_result"
    }
   ],
   "source": [
    "print_leaf(classify([\"Green\",3],my_tree))"
   ]
  },
  {
   "cell_type": "code",
   "execution_count": 37,
   "metadata": {},
   "outputs": [],
   "source": [
    "# Final testing\n",
    "testing_data = [[\"Green\",8,\"Watermelon\"],\n",
    "               [\"Yellow\",4,\"Apple\"],\n",
    "               [\"Green\",3,\"Apple\"],\n",
    "               [\"Red\",2,\"Grape\"],\n",
    "               [\"Red\",1,\"Grape\"],\n",
    "               [\"Yellow\",3,\"Lemon\"]]"
   ]
  },
  {
   "cell_type": "code",
   "execution_count": 41,
   "metadata": {},
   "outputs": [
    {
     "name": "stdout",
     "output_type": "stream",
     "text": [
      " Actual : Watermelon, Predicted : {'Apple': '50%', 'Lemon': '50%'}\n",
      " Actual : Apple, Predicted : {'Lemon': '100%'}\n",
      " Actual : Apple, Predicted : {'Apple': '50%', 'Lemon': '50%'}\n",
      " Actual : Grape, Predicted : {'Grape': '100%'}\n",
      " Actual : Grape, Predicted : {'Grape': '100%'}\n",
      " Actual : Lemon, Predicted : {'Lemon': '100%'}\n"
     ]
    }
   ],
   "source": [
    "for row in testing_data:\n",
    "    print (\" Actual : %s, Predicted : %s\" % (row[-1],print_leaf(classify(row,my_tree))))"
   ]
  },
  {
   "cell_type": "code",
   "execution_count": null,
   "metadata": {},
   "outputs": [],
   "source": []
  }
 ],
 "metadata": {
  "kernelspec": {
   "display_name": "Python 3",
   "language": "python",
   "name": "python3"
  },
  "language_info": {
   "codemirror_mode": {
    "name": "ipython",
    "version": 3
   },
   "file_extension": ".py",
   "mimetype": "text/x-python",
   "name": "python",
   "nbconvert_exporter": "python",
   "pygments_lexer": "ipython3",
   "version": "3.7.3"
  }
 },
 "nbformat": 4,
 "nbformat_minor": 2
}
